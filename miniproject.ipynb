{
 "cells": [
  {
   "cell_type": "code",
   "execution_count": 3,
   "id": "df070034-a57f-404c-a48e-95227e2b4c6d",
   "metadata": {},
   "outputs": [
    {
     "name": "stdout",
     "output_type": "stream",
     "text": [
      "Q1: What is an example of a mutable type?\n",
      "1. String\n",
      "2. List\n",
      "3. Tuple\n",
      "4. None\n"
     ]
    },
    {
     "name": "stdout",
     "output_type": "stream",
     "text": [
      "Enter the correct option (1-4):  2\n"
     ]
    },
    {
     "name": "stdout",
     "output_type": "stream",
     "text": [
      "Correct!\n",
      "\n",
      "Q2: What does print(2**3) output?\n",
      "1. 8\n",
      "2. 6\n",
      "3. 9\n",
      "4. 7\n"
     ]
    },
    {
     "name": "stdout",
     "output_type": "stream",
     "text": [
      "Enter the correct option (1-4):  1\n"
     ]
    },
    {
     "name": "stdout",
     "output_type": "stream",
     "text": [
      "Correct!\n",
      "\n",
      "Q3: What will print(3/2) output?\n",
      "1. 1.5\n",
      "2. 1\n",
      "3. 2\n",
      "4. None of these\n"
     ]
    },
    {
     "name": "stdout",
     "output_type": "stream",
     "text": [
      "Enter the correct option (1-4):  1\n"
     ]
    },
    {
     "name": "stdout",
     "output_type": "stream",
     "text": [
      "Correct!\n",
      "\n",
      "Q4: How do you begin a comment in Python?\n",
      "1. #\n",
      "2. //\n",
      "3. /*\n",
      "4. '\n"
     ]
    },
    {
     "name": "stdout",
     "output_type": "stream",
     "text": [
      "Enter the correct option (1-4):  1\n"
     ]
    },
    {
     "name": "stdout",
     "output_type": "stream",
     "text": [
      "Correct!\n",
      "\n",
      "Q5: Is 'nonlocal' a keyword in Python?\n",
      "1. Yes\n",
      "2. No\n",
      "3. Maybe\n",
      "4. Not Sure\n"
     ]
    },
    {
     "name": "stdout",
     "output_type": "stream",
     "text": [
      "Enter the correct option (1-4):  1\n"
     ]
    },
    {
     "name": "stdout",
     "output_type": "stream",
     "text": [
      "Correct!\n",
      "\n",
      "Quiz finished! Your total score is: 5/5\n"
     ]
    }
   ],
   "source": [
    "import random\n",
    "\n",
    "# List of quiz questions\n",
    "questions = [\n",
    "    {\"question\": \"What does print(2**3) output?\", \"options\": [\"8\", \"6\", \"9\", \"7\"], \"answer\": \"8\"},\n",
    "    {\"question\": \"What is an example of a mutable type?\", \"options\": [\"String\", \"List\", \"Tuple\", \"None\"], \"answer\": \"List\"},\n",
    "    {\"question\": \"How do you begin a comment in Python?\", \"options\": [\"#\", \"//\", \"/*\", \"'\"], \"answer\": \"#\"},\n",
    "    {\"question\": \"Is 'nonlocal' a keyword in Python?\", \"options\": [\"Yes\", \"No\", \"Maybe\", \"Not Sure\"], \"answer\": \"Yes\"},\n",
    "    {\"question\": \"What will print(3/2) output?\", \"options\": [\"1.5\", \"1\", \"2\", \"None of these\"], \"answer\": \"1.5\"}\n",
    "]\n",
    "\n",
    "# Function to run the quiz\n",
    "def run_quiz():\n",
    "    score = 0  # Initialize score\n",
    "    random.shuffle(questions)  # Shuffle questions for dynamic quiz session\n",
    "\n",
    "    # Loop through the first 5 questions\n",
    "    for i, q in enumerate(questions[:5]):\n",
    "        print(f\"Q{i+1}: {q['question']}\")\n",
    "        \n",
    "        # Display options\n",
    "        for idx, option in enumerate(q['options']):\n",
    "            print(f\"{idx+1}. {option}\")\n",
    "        \n",
    "        # Take user's input and validate it\n",
    "        while True:\n",
    "            answer = input(\"Enter the correct option (1-4): \")\n",
    "            if answer.isdigit() and 1 <= int(answer) <= len(q['options']):\n",
    "                break  # A valid answer, exit the loop\n",
    "            else:\n",
    "                print(\"Invalid input! Enter a number from 1 to\", len(q['options']))\n",
    "        \n",
    "        # Check the user's answer\n",
    "        if q['options'][int(answer) - 1] == str(q['answer']):\n",
    "            score += 1\n",
    "            print(\"Correct!\\n\")\n",
    "        else:\n",
    "            print(f\"Wrong! The correct answer is: {q['answer']}\\n\")\n",
    "\n",
    "    print(f\"Quiz finished! Your total score is: {score}/{len(questions[:5])}\")\n",
    "\n",
    "# Run the quiz\n",
    "run_quiz()\n"
   ]
  },
  {
   "cell_type": "code",
   "execution_count": null,
   "id": "8d76b978-ecd8-408f-96a8-70c6aa4da9b3",
   "metadata": {},
   "outputs": [],
   "source": []
  }
 ],
 "metadata": {
  "kernelspec": {
   "display_name": "Python 3 (ipykernel)",
   "language": "python",
   "name": "python3"
  },
  "language_info": {
   "codemirror_mode": {
    "name": "ipython",
    "version": 3
   },
   "file_extension": ".py",
   "mimetype": "text/x-python",
   "name": "python",
   "nbconvert_exporter": "python",
   "pygments_lexer": "ipython3",
   "version": "3.12.4"
  }
 },
 "nbformat": 4,
 "nbformat_minor": 5
}
